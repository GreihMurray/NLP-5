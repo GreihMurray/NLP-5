{
  "nbformat": 4,
  "nbformat_minor": 0,
  "metadata": {
    "colab": {
      "provenance": [],
      "machine_shape": "hm",
      "authorship_tag": "ABX9TyPGR1r/QI1xTubcZbFt763N",
      "include_colab_link": true
    },
    "kernelspec": {
      "name": "python3",
      "display_name": "Python 3"
    },
    "language_info": {
      "name": "python"
    },
    "accelerator": "GPU",
    "gpuClass": "standard"
  },
  "cells": [
    {
      "cell_type": "markdown",
      "metadata": {
        "id": "view-in-github",
        "colab_type": "text"
      },
      "source": [
        "<a href=\"https://colab.research.google.com/github/GreihMurray/NLP-5/blob/master/anything_goes_3_Murray.ipynb\" target=\"_parent\"><img src=\"https://colab.research.google.com/assets/colab-badge.svg\" alt=\"Open In Colab\"/></a>"
      ]
    },
    {
      "cell_type": "code",
      "execution_count": 1,
      "metadata": {
        "id": "dELP-OkqOAGG"
      },
      "outputs": [],
      "source": [
        "import pandas as pd\n",
        "from sklearn.model_selection import train_test_split\n",
        "import string\n",
        "from string import digits\n",
        "import re\n",
        "from sklearn.utils import shuffle\n",
        "from keras_preprocessing.sequence import pad_sequences\n",
        "from keras.layers import LSTM, Input, Dense,Embedding\n",
        "from keras.models import Model,load_model\n",
        "from keras.utils import plot_model\n",
        "from keras.preprocessing.text import one_hot\n",
        "from keras.preprocessing.text import Tokenizer\n",
        "from keras.models import model_from_json\n",
        "import pickle as pkl\n",
        "import numpy as np\n",
        "from tqdm import tqdm\n",
        "from nltk.translate.bleu_score import sentence_bleu, corpus_bleu"
      ]
    },
    {
      "cell_type": "code",
      "source": [
        "from google.colab import drive\n",
        "\n",
        "drive.mount('/content/gdrive')"
      ],
      "metadata": {
        "colab": {
          "base_uri": "https://localhost:8080/"
        },
        "id": "-32r4adZOG6N",
        "outputId": "9b2b3238-f63c-4640-9535-f11791ddbb5e"
      },
      "execution_count": 2,
      "outputs": [
        {
          "output_type": "stream",
          "name": "stdout",
          "text": [
            "Mounted at /content/gdrive\n"
          ]
        }
      ]
    },
    {
      "cell_type": "code",
      "source": [
        "def read_train_file(file_name):\n",
        "    all_data = []\n",
        "    descript = 'Reading ' + file_name\n",
        "\n",
        "    f = open(file_name, 'r', encoding='utf-8')\n",
        "    full_text = f.read()\n",
        "\n",
        "    cur_sent = []\n",
        "\n",
        "    for line in tqdm(full_text.split('\\n'), desc=descript):\n",
        "        if line == '<s>':\n",
        "            cur_sent = []\n",
        "            continue\n",
        "        if line in '()':\n",
        "            continue\n",
        "        if line == '</s>':\n",
        "            all_data.append(cur_sent)\n",
        "            continue\n",
        "        else:\n",
        "            cur_sent.append(line.lower())\n",
        "\n",
        "    return all_data"
      ],
      "metadata": {
        "id": "jkLFxiurLBiM"
      },
      "execution_count": 3,
      "outputs": []
    },
    {
      "cell_type": "code",
      "source": [
        "def read_all_train(source_file, targ_file):\n",
        "    all_data = []\n",
        "    descript = 'Reading files'\n",
        "    clean_punct = '-.,\\''\n",
        "\n",
        "    clean_source = []\n",
        "    clean_targ = []\n",
        "\n",
        "    source_data = read_train_file(source_file)\n",
        "    target_data = read_train_file(targ_file)\n",
        "\n",
        "    for i in tqdm(range(0, len(source_data)), desc='Cleaning data'):\n",
        "        clean_source.append(' '.join(source_data[i]))\n",
        "        clean_targ.append(' '.join(target_data[i]))\n",
        "\n",
        "\n",
        "    return clean_source, clean_targ"
      ],
      "metadata": {
        "id": "HdxgBiVcLWs9"
      },
      "execution_count": 4,
      "outputs": []
    },
    {
      "cell_type": "markdown",
      "source": [
        "elow code from https://medium.com/analytics-vidhya/neural-machine-translation-using-simple-seq2seq-517b5ce1ae0f"
      ],
      "metadata": {
        "id": "lh1hIyqCy33p"
      }
    },
    {
      "cell_type": "markdown",
      "source": [
        "B"
      ],
      "metadata": {
        "id": "yhss8JD7y3rS"
      }
    },
    {
      "cell_type": "code",
      "source": [
        "s, t = read_all_train('/content/gdrive/MyDrive/Colab_Notebooks/NLP/translation/train-source.txt', '/content/gdrive/MyDrive/Colab_Notebooks/NLP/translation/train-target.txt')\n",
        "print(s[:5])\n",
        "print(t[:5])"
      ],
      "metadata": {
        "colab": {
          "base_uri": "https://localhost:8080/"
        },
        "id": "zXKEYyZhbaEE",
        "outputId": "a33b8fd3-d941-4917-802b-0a6f7aaf80d9"
      },
      "execution_count": 5,
      "outputs": [
        {
          "output_type": "stream",
          "name": "stderr",
          "text": [
            "Reading /content/gdrive/MyDrive/Colab_Notebooks/NLP/translation/train-source.txt: 100%|██████████| 925535/925535 [00:00<00:00, 1406119.43it/s]\n",
            "Reading /content/gdrive/MyDrive/Colab_Notebooks/NLP/translation/train-target.txt: 100%|██████████| 910805/910805 [00:00<00:00, 1956133.14it/s]\n",
            "Cleaning data: 100%|██████████| 45171/45171 [00:00<00:00, 545335.22it/s]\n"
          ]
        },
        {
          "output_type": "stream",
          "name": "stdout",
          "text": [
            "['cinnte go leór , thiocfadh dóbhtha bás a fhagháil ar imeall an phuill udaí .', 'bhí sé follasach go rabh an poll sin ag foscladh ar an fhairrge ar dhóigh éigin , ná líonadh agus thráigheadh an t-uisce ann .', \"d'fhéadfadh siad bás ' fhagháil ar a bhruach agus na cuirp imtheacht ar an lán mhara amach fríd an phluais .\", 'thiocfadh dóbhtha fosta lámh a chur ina mbás féin , a ghabháil de léim isteach sa pholl ghalach a bhí i n-iarthar an dara taibhlidh - poll mar bhéadh coire de uisce ghalach ann .', \"' na dhiaidh sin , bhí rud éigin do-chreidte agus leamh in gach teóir de'n bheirt .\"]\n",
            "['cinnte go leor , thiocfadh dóibh bás a fháil ar imeall an phoill úd .', 'bhí sé follasach go raibh an poll sin ag foscladh ar an fharraige ar dhóigh éigin , nó líonadh agus thráigheadh an t-uisce ann .', \"d'fhéadfadh siad bás a fháil ar a bhruach agus na coirp a imeacht ar an lán mhara amach fríd an phluais .\", \"thiocfadh dóibh fosta lámh a chur ina mbás féin , a ghabháil de léim isteach sa pholl ghalach a bhí in iarthar an dara táibhle - poll mar a bheadh coire d'uisce ghalach ann .\", 'ina dhiaidh sin bhí rud éigin dochreidte agus leamh i ngach teoiric den bheirt .']\n"
          ]
        }
      ]
    },
    {
      "cell_type": "code",
      "source": [
        "language_data = pd.DataFrame(columns=['source','target'])\n",
        "language_data['source'] = s\n",
        "language_data['target'] = t\n",
        "\n",
        "# saving to csv\n",
        "language_data.to_csv('language_data.csv', index=False)\n",
        "\n",
        "# loading data from csv\n",
        "language_data = pd.read_csv('language_data.csv')"
      ],
      "metadata": {
        "id": "JSGIQDlDb8S5"
      },
      "execution_count": 6,
      "outputs": []
    },
    {
      "cell_type": "code",
      "source": [
        "\n",
        "source_text = language_data['source'].values\n",
        "target_text = language_data['target'].values\n",
        "\n",
        "source_text[0], target_text[0]\n",
        "\n",
        "#lowercasing the setences\n",
        "source_text_ = [x.lower() for x in source_text]\n",
        "target_text_ = [x.lower() for x in target_text]\n",
        "\n",
        "# Text preprocessing\n",
        "source_text_ = [re.sub(\"'\",'',x) for x in source_text_]\n",
        "target_text_ = [re.sub(\"'\",'',x) for x in target_text_]\n",
        "\n",
        "# remove puntuation\n",
        "def remove_punc(text_list):\n",
        "  table = str.maketrans('', '', string.punctuation)\n",
        "  removed_punc_text = []\n",
        "  for sent in text_list:\n",
        "    sentance = [w.translate(table) for w in sent.split(' ')]\n",
        "    removed_punc_text.append(' '.join(sentance))\n",
        "  return removed_punc_text\n",
        "source_text_ = remove_punc(source_text_)\n",
        "target_text_ = remove_punc(target_text_)\n",
        "\n",
        "# removing the digits from english sentances\n",
        "remove_digits = str.maketrans('', '', digits)\n",
        "removed_digits_text = []\n",
        "for sent in source_text_:\n",
        "  sentance = [w.translate(remove_digits) for w in sent.split(' ')]\n",
        "  removed_digits_text.append(' '.join(sentance))\n",
        "source_text_ = removed_digits_text\n",
        "\n",
        "# removing the digits from the marathi sentances\n",
        "target_text_ = [re.sub(\"[२३०८१५७९४६]\",\"\",x) for x in target_text_]\n",
        "target_text_ = [re.sub(\"[\\u200d]\",\"\",x) for x in target_text_]\n",
        "\n",
        "# removing the stating and ending whitespaces\n",
        "source_text_ = [x.strip() for x in source_text_]\n",
        "target_text_ = [x.strip() for x in target_text_]"
      ],
      "metadata": {
        "id": "aVZBgkZtcNwU"
      },
      "execution_count": 7,
      "outputs": []
    },
    {
      "cell_type": "code",
      "source": [
        "source_text_ = [x.strip() for x in source_text_]\n",
        "target_text_ = [x.strip() for x in target_text_]"
      ],
      "metadata": {
        "id": "FSuvRNYqdlRU"
      },
      "execution_count": 8,
      "outputs": []
    },
    {
      "cell_type": "code",
      "source": [
        "target_text_ = [\"start \" + x + \" end\" for x in target_text_]"
      ],
      "metadata": {
        "id": "QqDwFZOgc2oj"
      },
      "execution_count": 9,
      "outputs": []
    },
    {
      "cell_type": "code",
      "source": [
        "\n",
        "X = source_text_\n",
        "Y = target_text_\n",
        "\n",
        "#Splitting the data\n",
        "X_train, X_test, y_train, y_test = train_test_split(X,Y,test_size = 0.1)\n",
        "\n",
        "print(len(X_train))\n",
        "\n",
        "print(len(y_train))\n",
        "\n",
        "print(len(X_test))\n",
        "\n",
        "print(len(y_test))"
      ],
      "metadata": {
        "colab": {
          "base_uri": "https://localhost:8080/"
        },
        "id": "fySu2jxbcUrb",
        "outputId": "4ac06db5-d151-43b1-8fff-06ae2dd32943"
      },
      "execution_count": 10,
      "outputs": [
        {
          "output_type": "stream",
          "name": "stdout",
          "text": [
            "40653\n",
            "40653\n",
            "4518\n",
            "4518\n"
          ]
        }
      ]
    },
    {
      "cell_type": "code",
      "source": [
        "# preparing data for the word embedding\n",
        "def Max_length(data):\n",
        "  max_length_ = max([len(x.split(' ')) for x in data])\n",
        "  return max_length_\n",
        "\n",
        "#Training data\n",
        "max_length_source = Max_length(X_train)\n",
        "max_lenght_target = Max_length(y_train)\n",
        "\n",
        "#Test data\n",
        "max_length_source_test = Max_length(X_test)\n",
        "max_lenght_target_test = Max_length(y_test)"
      ],
      "metadata": {
        "id": "q71xZPQedq23"
      },
      "execution_count": 11,
      "outputs": []
    },
    {
      "cell_type": "code",
      "source": [
        "max_lenght_target, max_length_source"
      ],
      "metadata": {
        "colab": {
          "base_uri": "https://localhost:8080/"
        },
        "id": "g9O20Gezds92",
        "outputId": "5ca6cc20-ca05-42ea-b553-19e394aa2cd5"
      },
      "execution_count": 12,
      "outputs": [
        {
          "output_type": "execute_result",
          "data": {
            "text/plain": [
              "(222, 230)"
            ]
          },
          "metadata": {},
          "execution_count": 12
        }
      ]
    },
    {
      "cell_type": "code",
      "source": [
        "def tokenizer_(text_data):\n",
        "  tokenizer = Tokenizer()\n",
        "  tokenizer.fit_on_texts(text_data)\n",
        "  return tokenizer\n",
        "\n",
        "tokenizer_input = tokenizer_(X_train)\n",
        "vocab_size_input = len(tokenizer_input.word_index) + 1\n",
        "tokenizer_target = tokenizer_(y_train)\n",
        "vocab_size_target = len(tokenizer_target.word_index) + 1"
      ],
      "metadata": {
        "id": "FMDcfAUUdveT"
      },
      "execution_count": 13,
      "outputs": []
    },
    {
      "cell_type": "code",
      "source": [
        "vocab_size_input,vocab_size_target"
      ],
      "metadata": {
        "colab": {
          "base_uri": "https://localhost:8080/"
        },
        "id": "recb7rU0dyqx",
        "outputId": "48f10588-f2fa-4539-cb1b-e891a87dabd6"
      },
      "execution_count": 14,
      "outputs": [
        {
          "output_type": "execute_result",
          "data": {
            "text/plain": [
              "(27955, 23965)"
            ]
          },
          "metadata": {},
          "execution_count": 14
        }
      ]
    },
    {
      "cell_type": "code",
      "source": [
        "with open('tokenizer_input.pkl','wb') as f:\n",
        "  pkl.dump(tokenizer_input,f)\n",
        "\n",
        "with open('tokenizer_target.pkl','wb') as f:\n",
        "  pkl.dump(tokenizer_target,f)\n",
        "pkl.dump(tokenizer_input, open('tokenizer_input.pkl', 'wb'))\n",
        "pkl.dump(tokenizer_target, open('tokenizer_target.pkl', 'wb'))"
      ],
      "metadata": {
        "id": "EFgSCnF7dxJE"
      },
      "execution_count": 15,
      "outputs": []
    },
    {
      "cell_type": "code",
      "source": [
        "def generator_batch(X= X_train,Y=y_train, batch_size=128):\n",
        "  while True:\n",
        "    for j in range(0, len(X), batch_size):\n",
        "      encoder_data_input = np.zeros((batch_size,max_length_source),dtype='float32') #metrix of batch_size*max_length_english\n",
        "      decoder_data_input = np.zeros((batch_size,max_lenght_target),dtype='float32') #metrix of batch_size*max_length_marathi\n",
        "      decoder_target_input = np.zeros((batch_size,max_lenght_target,vocab_size_target),dtype='float32') # 3d array one hot encoder decoder target data\n",
        "      for i, (input_text,target_text) in enumerate(zip(X[j:j+batch_size],Y[j:j+batch_size])):\n",
        "        for t, word in enumerate(input_text.split()):\n",
        "          encoder_data_input[i,t] = tokenizer_input.word_index[word] # Here we are storing the encoder \n",
        "                                                                     #seq in row here padding is done automaticaly as \n",
        "                                                                     #we have defined col as max_lenght\n",
        "        for t, word in enumerate(target_text.split()):\n",
        "          # if word == 'START_':\n",
        "          #   word = 'start'\n",
        "          # elif word == 'END_':\n",
        "          #   word = 'end'\n",
        "          decoder_data_input[i,t] = tokenizer_target.word_index[word] # same for the decoder sequence\n",
        "          if t>0:\n",
        "            decoder_target_input[i,t-1,tokenizer_target.word_index[word]] = 1 #target is one timestep ahead of decoder input because it does not have 'start tag'\n",
        "      # print(encoder_data_input.shape())\n",
        "      yield ([encoder_data_input,decoder_data_input],decoder_target_input)"
      ],
      "metadata": {
        "id": "o7LxnA0lcYs_"
      },
      "execution_count": 16,
      "outputs": []
    },
    {
      "cell_type": "code",
      "source": [
        "latent_dim = 50\n",
        "# Define an input sequence and process it.\n",
        "encoder_inputs = Input(shape=(None,),name=\"encoder_inputs\")\n",
        "emb_layer_encoder = Embedding(vocab_size_input,latent_dim, mask_zero=True)(encoder_inputs)\n",
        "encoder = LSTM(latent_dim, return_state=True)\n",
        "encoder_outputs, state_h, state_c = encoder(emb_layer_encoder)\n",
        "# We discard `encoder_outputs` and only keep the states.\n",
        "encoder_states = [state_h, state_c]\n",
        "\n",
        "# Set up the decoder, using `encoder_states` as initial state.\n",
        "decoder_inputs = Input(shape=(None,),name=\"decoder_inputs\")\n",
        "# We set up our decoder to return full output sequences,\n",
        "# and to return internal states as well. We don't use the\n",
        "# return states in the training model, but we will use them in inference.\n",
        "emb_layer_decoder = Embedding(vocab_size_target,latent_dim, mask_zero=True)(decoder_inputs)\n",
        "decoder_lstm = LSTM(latent_dim, return_sequences=True, return_state=True)\n",
        "decoder_outputs, _, _ = decoder_lstm(emb_layer_decoder, initial_state=encoder_states)\n",
        "decoder_dense = Dense(vocab_size_target, activation='softmax')\n",
        "decoder_outputs = decoder_dense(decoder_outputs)\n",
        "\n",
        "# Define the model that will turn\n",
        "# `encoder_input_data` & `decoder_input_data` into `decoder_target_data`\n",
        "model = Model([encoder_inputs, decoder_inputs], decoder_outputs)"
      ],
      "metadata": {
        "id": "dt0Zrwhkcb20"
      },
      "execution_count": 17,
      "outputs": []
    },
    {
      "cell_type": "code",
      "source": [
        "model.compile(loss='categorical_crossentropy', optimizer='rmsprop', metrics=['accuracy'])"
      ],
      "metadata": {
        "id": "RXmj6lBoeAm1"
      },
      "execution_count": 18,
      "outputs": []
    },
    {
      "cell_type": "code",
      "source": [
        "plot_model(model, to_file='train_model.png', show_shapes=True)"
      ],
      "metadata": {
        "colab": {
          "base_uri": "https://localhost:8080/",
          "height": 533
        },
        "id": "nfe2U7dRc-3x",
        "outputId": "a6042218-66aa-4d53-91c0-a50be3dba42a"
      },
      "execution_count": 19,
      "outputs": [
        {
          "output_type": "execute_result",
          "data": {
            "image/png": "[encoded data removed]",
            "text/plain": [
              "<IPython.core.display.Image object>"
            ]
          },
          "metadata": {},
          "execution_count": 19
        }
      ]
    },
    {
      "cell_type": "code",
      "source": [
        "train_samples = len(X_train)\n",
        "val_samples = len(X_test)\n",
        "batch_size = 25\n",
        "epochs = 30"
      ],
      "metadata": {
        "id": "SN904BeaeFtZ"
      },
      "execution_count": 47,
      "outputs": []
    },
    {
      "cell_type": "code",
      "source": [
        "model.fit_generator(generator = generator_batch(X_train, y_train, batch_size = batch_size),\n",
        "                    steps_per_epoch = train_samples//batch_size,\n",
        "                    epochs=epochs)"
      ],
      "metadata": {
        "colab": {
          "base_uri": "https://localhost:8080/"
        },
        "id": "KSG4poT0eHs-",
        "outputId": "73cbd799-ac70-4b2d-befc-e5e8dff3f00b"
      },
      "execution_count": null,
      "outputs": [
        {
          "output_type": "stream",
          "name": "stderr",
          "text": [
            "/usr/local/lib/python3.7/dist-packages/ipykernel_launcher.py:3: UserWarning: `Model.fit_generator` is deprecated and will be removed in a future version. Please use `Model.fit`, which supports generators.\n",
            "  This is separate from the ipykernel package so we can avoid doing imports until\n"
          ]
        },
        {
          "output_type": "stream",
          "name": "stdout",
          "text": [
            "Epoch 1/30\n",
            "1626/1626 [==============================] - 413s 254ms/step - loss: 0.2930 - accuracy: 0.3890\n",
            "Epoch 2/30\n",
            "1626/1626 [==============================] - 413s 254ms/step - loss: 0.2900 - accuracy: 0.3941\n",
            "Epoch 3/30\n",
            "1626/1626 [==============================] - 413s 254ms/step - loss: 0.2873 - accuracy: 0.3992\n",
            "Epoch 4/30\n",
            "1626/1626 [==============================] - 412s 254ms/step - loss: 0.2847 - accuracy: 0.4038\n",
            "Epoch 5/30\n",
            "1626/1626 [==============================] - 412s 253ms/step - loss: 0.2823 - accuracy: 0.4079\n",
            "Epoch 6/30\n",
            "1626/1626 [==============================] - 412s 253ms/step - loss: 0.2798 - accuracy: 0.4119\n",
            "Epoch 7/30\n",
            "1626/1626 [==============================] - 397s 244ms/step - loss: 0.2775 - accuracy: 0.4156\n",
            "Epoch 8/30\n",
            "1626/1626 [==============================] - 396s 243ms/step - loss: 0.2753 - accuracy: 0.4190\n",
            "Epoch 9/30\n",
            "1626/1626 [==============================] - 396s 244ms/step - loss: 0.2733 - accuracy: 0.4225\n",
            "Epoch 10/30\n",
            "1626/1626 [==============================] - 395s 243ms/step - loss: 0.2713 - accuracy: 0.4261\n",
            "Epoch 11/30\n",
            "1626/1626 [==============================] - 395s 243ms/step - loss: 0.2695 - accuracy: 0.4290\n",
            "Epoch 12/30\n",
            "1626/1626 [==============================] - 396s 244ms/step - loss: 0.2675 - accuracy: 0.4323\n",
            "Epoch 13/30\n",
            "1626/1626 [==============================] - 395s 243ms/step - loss: 0.2659 - accuracy: 0.4351\n",
            "Epoch 14/30\n",
            "1626/1626 [==============================] - 395s 243ms/step - loss: 0.2642 - accuracy: 0.4373\n",
            "Epoch 15/30\n",
            "1626/1626 [==============================] - 396s 243ms/step - loss: 0.2626 - accuracy: 0.4401\n",
            "Epoch 16/30\n",
            "1626/1626 [==============================] - 397s 244ms/step - loss: 0.2612 - accuracy: 0.4423\n",
            "Epoch 17/30\n",
            "1626/1626 [==============================] - 395s 243ms/step - loss: 0.2599 - accuracy: 0.4441\n",
            "Epoch 18/30\n",
            "1626/1626 [==============================] - 399s 245ms/step - loss: 0.2587 - accuracy: 0.4456\n",
            "Epoch 19/30\n",
            " 498/1626 [========>.....................] - ETA: 4:36 - loss: 0.2570 - accuracy: 0.4467"
          ]
        }
      ]
    },
    {
      "cell_type": "code",
      "source": [
        "model_json = model.to_json()\n",
        "with open(\"/content/gdrive/MyDrive/Colab_Notebooks/NLP/translation/model_2.json\", \"w\") as json_file:\n",
        "    json_file.write(model_json)\n",
        "# serialize weights to HDF5\n",
        "model.save_weights(\"/content/gdrive/MyDrive/Colab_Notebooks/NLP/translation/model_weight_5.h5\")\n",
        "print(\"Saved model to disk\")"
      ],
      "metadata": {
        "id": "p_IivlENctI8"
      },
      "execution_count": null,
      "outputs": []
    },
    {
      "cell_type": "code",
      "source": [
        "# loading the model architecture and asigning the weights\n",
        "json_file = open('/content/gdrive/MyDrive/Colab_Notebooks/NLP/translation/model_2.json', 'r')\n",
        "loaded_model_json = json_file.read()\n",
        "json_file.close()\n",
        "model_loaded = model_from_json(loaded_model_json)\n",
        "# load weights into new model\n",
        "model_loaded.load_weights(\"/content/gdrive/MyDrive/Colab_Notebooks/NLP/translation/model_weight_5.h5\")"
      ],
      "metadata": {
        "id": "UK1IRY1M9k6h"
      },
      "execution_count": null,
      "outputs": []
    },
    {
      "cell_type": "code",
      "source": [
        "latent_dim = 50\n",
        "#inference encoder\n",
        "encoder_inputs_inf = model_loaded.input[0] #Trained encoder input layer\n",
        "encoder_outputs_inf, inf_state_h, inf_state_c = model_loaded.layers[4].output # retoring the encoder lstm output and states\n",
        "encoder_inf_states = [inf_state_h,inf_state_c]\n",
        "encoder_model = Model(encoder_inputs_inf,encoder_inf_states)\n",
        "\n",
        "\n",
        "#inference decoder\n",
        "# The following tensor will store the state of the previous timestep in the \"starting the encoder final time step\"\n",
        "decoder_state_h_input = Input(shape=(latent_dim,)) #becase during training we have set the lstm unit to be of 50\n",
        "decoder_state_c_input = Input(shape=(latent_dim,))\n",
        "decoder_state_input = [decoder_state_h_input,decoder_state_c_input]\n",
        "\n",
        "# # inference decoder input\n",
        "decoder_input_inf = model_loaded.input[1] #Trained decoder input layer\n",
        "# decoder_input_inf._name='decoder_input'\n",
        "decoder_emb_inf = model_loaded.layers[3](decoder_input_inf)\n",
        "decoder_lstm_inf = model_loaded.layers[5]\n",
        "decoder_output_inf, decoder_state_h_inf, decoder_state_c_inf = decoder_lstm_inf(decoder_emb_inf, initial_state =decoder_state_input)\n",
        "decoder_state_inf = [decoder_state_h_inf,decoder_state_c_inf]\n",
        "#inference dense layer\n",
        "dense_inf = model_loaded.layers[6]\n",
        "decoder_output_final = dense_inf(decoder_output_inf)# A dense softmax layer to generate prob dist. over the target vocabulary\n",
        "\n",
        "decoder_model = Model([decoder_input_inf]+decoder_state_input,[decoder_output_final]+decoder_state_inf)"
      ],
      "metadata": {
        "id": "cUo-v-Aocvho"
      },
      "execution_count": null,
      "outputs": []
    },
    {
      "cell_type": "code",
      "source": [
        "#inference decoder\n",
        "# The following tensor will store the state of the previous timestep in the \"starting the encoder final time step\"\n",
        "decoder_state_h_input = Input(shape=(latent_dim,)) #becase during training we have set the lstm unit to be of 50\n",
        "decoder_state_c_input = Input(shape=(latent_dim,))\n",
        "decoder_state_input = [decoder_state_h_input,decoder_state_c_input]"
      ],
      "metadata": {
        "id": "w0oTysqwdBVg"
      },
      "execution_count": null,
      "outputs": []
    },
    {
      "cell_type": "code",
      "source": [
        "# inference decoder input\n",
        "decoder_input_inf = model_loaded.input[1] #Trained decoder input layer\n",
        "# decoder_input_inf._name='decoder_input'\n",
        "decoder_emb_inf = model_loaded.layers[3](decoder_input_inf)\n",
        "decoder_lstm_inf = model_loaded.layers[5]\n",
        "decoder_output_inf, decoder_state_h_inf, decoder_state_c_inf = decoder_lstm_inf(decoder_emb_inf, initial_state =decoder_state_input)\n",
        "decoder_state_inf = [decoder_state_h_inf,decoder_state_c_inf]\n",
        "#inference dense layer\n",
        "dense_inf = model_loaded.layers[6]\n",
        "decoder_output_final = dense_inf(decoder_output_inf)# A dense softmax layer to generate prob dist. over the target vocabulary\n",
        "\n",
        "decoder_model = Model([decoder_input_inf]+decoder_state_input,[decoder_output_final]+decoder_state_inf)"
      ],
      "metadata": {
        "id": "sw1hZUX3dC6P"
      },
      "execution_count": null,
      "outputs": []
    },
    {
      "cell_type": "code",
      "source": [
        "reverse_word_map_input = dict(map(reversed, tokenizer_input.word_index.items()))\n",
        "reverse_word_map_target = dict(map(reversed, tokenizer_target.word_index.items()))"
      ],
      "metadata": {
        "id": "p4ExH92a1sOo"
      },
      "execution_count": null,
      "outputs": []
    },
    {
      "cell_type": "code",
      "source": [
        "# Code to predct the input sentences translation\n",
        "def decode_seq(input_seq):\n",
        "  # print(\"input_seq=>\",input_seq)\n",
        "  state_values_encoder = encoder_model.predict(input_seq)\n",
        "  # intialize the target seq with start tag\n",
        "  target_seq = np.zeros((1,1))\n",
        "  target_seq[0, 0] = tokenizer_target.word_index['start']\n",
        "  # print(\"target_seq:=>\",target_seq)\n",
        "  stop_condition = False\n",
        "  decoder_sentance = ''\n",
        "  # print(\"Beforee the while loop\")\n",
        "  while not stop_condition:\n",
        "    sample_word , decoder_h,decoder_c= decoder_model.predict([target_seq] + state_values_encoder)\n",
        "    # print(\"sample_word: =>\",sample_word)\n",
        "    sample_word_index = np.argmax(sample_word[0,-1,:])\n",
        "    # print(\"sample_word_index: \",sample_word_index)\n",
        "    decoder_word = reverse_word_map_target[sample_word_index]\n",
        "    decoder_sentance += ' '+ decoder_word\n",
        "    # print(\"decoded word:=>\",decoder_word)\n",
        "    # print(len(decoder_sentance))\n",
        "    # print(\"len(decoder_sentance) > 70: \",len(decoder_sentance) > 70)\n",
        "    # print('decoder_word == \"end\"',decoder_word == 'end')\n",
        "    # print(decoder_word == 'end' or len(decoder_sentance) > 70)\n",
        "    # stop condition for the while loop\n",
        "    if (decoder_word == 'end' or \n",
        "        len(decoder_sentance) > 70):\n",
        "        stop_condition = True\n",
        "        # print(\"from if condition\")\n",
        "    # target_seq = np.zeros((1,1))\n",
        "    target_seq[0, 0] = sample_word_index\n",
        "    # print(target_seq)\n",
        "    state_values_encoder = [decoder_h,decoder_c]\n",
        "  return decoder_sentance"
      ],
      "metadata": {
        "id": "7aMuJkYkdE5N"
      },
      "execution_count": null,
      "outputs": []
    },
    {
      "cell_type": "code",
      "source": [
        "for i in range(30):\n",
        "  sentance = X_test[i]\n",
        "  original_target = y_test[i]\n",
        "  input_seq = tokenizer_input.texts_to_sequences([sentance])\n",
        "  pad_sequence = pad_sequences(input_seq, maxlen= 30,padding='post')\n",
        "  # print('input_sequence =>',input_seq)\n",
        "  # print(\"pad_seq=>\",pad_sequence)\n",
        "  predicted_target = decode_seq(pad_sequence)\n",
        "  print(\"Test sentance: \",i+1)\n",
        "  print(\"sentance: \",sentance)\n",
        "  print(\"origianl translate:\",original_target[6:-4])\n",
        "  print(\"predicted Translate:\",predicted_target[:-4])\n",
        "  print(original_target[6:-4].split(' '))\n",
        "  print(predicted_target[:-4].split(' '))\n",
        "  print(sentence_bleu([original_target[6:-4].split(' ')], predicted_target[:-4].split(' ')))\n",
        "  print(\"==\"*50)"
      ],
      "metadata": {
        "id": "T1tJkYOPdGjx"
      },
      "execution_count": null,
      "outputs": []
    }
  ]
}